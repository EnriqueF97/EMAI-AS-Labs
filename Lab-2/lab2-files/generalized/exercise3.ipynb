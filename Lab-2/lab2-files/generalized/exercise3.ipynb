{
 "cells": [
  {
   "cell_type": "markdown",
   "id": "b77481b3-636c-44f9-89c4-f4ba2ab4135e",
   "metadata": {},
   "source": [
    "# Installation\n",
    "\n",
    "Execute the following commands to install the library for Generalized Planning:\n"
   ]
  },
  {
   "cell_type": "code",
   "execution_count": null,
   "id": "57d679a2-8aa0-4120-b560-be3502e81564",
   "metadata": {},
   "outputs": [],
   "source": [
    "# Update PIP\n",
    "!pip install --upgrade pip\n",
    "\n",
    "# Install BFGP++ requirements \n",
    "!wget -N https://raw.githubusercontent.com/jsego/bfgp-pp/main/requirements.txt\n",
    "!pip install -r requirements.txt\n",
    "\n",
    "# Clone the Unified Planning (forked version) for Few-Shot planning\n",
    "!git clone https://github.com/jsego/unified-planning\n",
    "!pip install unified-planning/\n",
    "\n",
    "# Install the UP-BFGP interface\n",
    "!pip install up-bfgp==0.2.0"
   ]
  },
  {
   "cell_type": "markdown",
   "id": "1931ad59-0798-42ff-9b29-723b2cf9758b",
   "metadata": {},
   "source": [
    "# Exercises\n",
    "\n",
    "1. Implement the `gripper/domain.pddl` file\n",
    "2. Find the minimum number of `program_lines` for the generalized plan\n"
   ]
  },
  {
   "cell_type": "code",
   "execution_count": null,
   "id": "d538c0fa-e16c-4597-ae14-8ecaaba71c62",
   "metadata": {},
   "outputs": [],
   "source": [
    "from unified_planning.shortcuts import *  # type: ignore\n",
    "from unified_planning.plans import PlanKind  # type: ignore\n",
    "from unified_planning.engines.results import PlanGenerationResultStatus\n",
    "\n",
    "def base_bfgp_call(domain_file: str, problem_files: List[str], args: dict):\n",
    "    with up.environment.get_environment().factory.FewshotPlanner(name='bfgp') as bfgp:\n",
    "        bfgp.set_arguments(**args)\n",
    "        bfgp_problems = bfgp.generate_problems(domain_file, problem_files)\n",
    "        # Compute the generalized plan for these input problems\n",
    "        result = bfgp.solve(bfgp_problems, output_stream=sys.stdout)\n",
    "        # Check whether all generated plans are satisficing\n",
    "        return all(r == PlanGenerationResultStatus.SOLVED_SATISFICING for r in result)\n",
    "\n",
    "def main():\n",
    "    \"\"\"Testing the BFGP++ solver can solve 5 Gripper instances\"\"\"\n",
    "    domain = 'gripper/domain.pddl' # ToDo: finish the Gripper domain implementation\n",
    "    problems = [f'gripper/p{i:02}.pddl' for i in range(1, 6)]\n",
    "    kwargs = dict({'mode': 'synthesis',\n",
    "                   'theory': 'cpp',\n",
    "                   'program_lines': ???, # ToDo: find the minimum number of program lines\n",
    "                   'program': 'gripper',\n",
    "                   'translated_problem_dir': 'tmp/gripper/'})\n",
    "\n",
    "    assert(base_bfgp_call(domain_file=domain, problem_files=problems, args=kwargs))\n",
    "\n",
    "if __name__ == \"__main__\":\n",
    "    main()\n",
    "\n"
   ]
  }
 ],
 "metadata": {
  "kernelspec": {
   "display_name": "Python 3 (ipykernel)",
   "language": "python",
   "name": "python3"
  },
  "language_info": {
   "codemirror_mode": {
    "name": "ipython",
    "version": 3
   },
   "file_extension": ".py",
   "mimetype": "text/x-python",
   "name": "python",
   "nbconvert_exporter": "python",
   "pygments_lexer": "ipython3",
   "version": "3.10.12"
  }
 },
 "nbformat": 4,
 "nbformat_minor": 5
}
